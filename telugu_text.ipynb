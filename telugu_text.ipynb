{
 "cells": [
  {
   "cell_type": "code",
   "execution_count": 1,
   "id": "d62fbfdb-6178-45d4-a808-9714d4a6cf7d",
   "metadata": {},
   "outputs": [],
   "source": [
    "import os\n",
    "import unicodedata\n",
    "import re\n",
    "from sklearn.feature_extraction.text import TfidfVectorizer\n",
    "from sklearn.metrics.pairwise import cosine_similarity\n",
    "import nltk"
   ]
  },
  {
   "cell_type": "code",
   "execution_count": 2,
   "id": "3df41ba0-e50a-48d1-ba92-4b3b487d3669",
   "metadata": {},
   "outputs": [
    {
     "name": "stderr",
     "output_type": "stream",
     "text": [
      "[nltk_data] Downloading package stopwords to C:\\Users\\Gowri\n",
      "[nltk_data]     sri\\AppData\\Roaming\\nltk_data...\n",
      "[nltk_data]   Package stopwords is already up-to-date!\n"
     ]
    },
    {
     "data": {
      "text/plain": [
       "True"
      ]
     },
     "execution_count": 2,
     "metadata": {},
     "output_type": "execute_result"
    }
   ],
   "source": [
    "nltk.download('stopwords')"
   ]
  },
  {
   "cell_type": "code",
   "execution_count": 3,
   "id": "8e255fb5-f24c-4dad-adf5-fa9646cef368",
   "metadata": {},
   "outputs": [],
   "source": [
    "telugu_stopwords = set([\n",
    "    \"ఇది\", \"ఒక\", \"ఈ\", \"మరియు\", \"కాని\", \"అందుకే\", \"మీరు\", \"వారిని\", \"ఉన్న\",\n",
    "    \"ఉంటే\", \"ఎలా\", \"ఎందుకు\", \"కాబట్టి\", \"ఎప్పుడు\", \"ఇంకా\", \"మాత్రమే\", \"మొత్తం\",\n",
    "    \"నేను\", \"నీకు\", \"వారు\", \"ఆది\", \"మంచి\", \"తరువాత\", \"కూడా\", \"అక్కడ\", \"మీ\", \n",
    "    \"వెంట\", \"అంటే\", \"ఇంకా\", \"చెప్పారు\", \"అవి\", \"మరి\", \"అందరూ\", \"అప్పటికీ\", \n",
    "    \"దాని\", \"అంతా\", \"ఎవరూ\", \"లేదా\", \"ఏది\", \"ఎప్పుడూ\", \"ఎక్కడా\", \"అవును\", \n",
    "    \"కాబట్టి\", \"అప్పుడు\", \"అందువల్ల\", \"విషయం\", \"ఎందుకంటే\", \"వద్ద\", \"చేత\", \"పైన\"\n",
    "])"
   ]
  },
  {
   "cell_type": "code",
   "execution_count": 4,
   "id": "708b5be6-fa02-49f8-9ad5-8bd46217d739",
   "metadata": {},
   "outputs": [],
   "source": [
    "def preprocess_text(text):\n",
    "    text = unicodedata.normalize('NFKC', text)  \n",
    "    telugu_punctuation = '।॥,!?।'  \n",
    "    text = re.sub(f\"[{telugu_punctuation}]\", \"\", text)  \n",
    "    tokens = text.split() \n",
    "    tokens = [word for word in tokens if word not in telugu_stopwords] \n",
    "    return \" \".join(tokens) "
   ]
  },
  {
   "cell_type": "code",
   "execution_count": 5,
   "id": "303af59d-d156-4a90-bc43-effbd3cb7eb1",
   "metadata": {},
   "outputs": [],
   "source": [
    "folder_path = 'telugu_text'\n"
   ]
  },
  {
   "cell_type": "code",
   "execution_count": 6,
   "id": "01d726de-ca66-4538-b32a-00621a2bc452",
   "metadata": {},
   "outputs": [],
   "source": [
    "file_texts = []\n",
    "file_names = []\n"
   ]
  },
  {
   "cell_type": "code",
   "execution_count": 7,
   "id": "65059b88-4137-444b-8fb9-e72bc02fbaed",
   "metadata": {},
   "outputs": [],
   "source": [
    "for filename in os.listdir(folder_path):\n",
    "    if filename.endswith('.txt'): \n",
    "        file_path = os.path.join(folder_path, filename)\n",
    "        \n",
    "        with open(file_path, 'r', encoding='utf-8') as file:\n",
    "            text = file.read()\n",
    "\n",
    "        preprocessed_text = preprocess_text(text)\n",
    "        \n",
    "        file_texts.append(preprocessed_text)\n",
    "        file_names.append(filename)"
   ]
  },
  {
   "cell_type": "code",
   "execution_count": 8,
   "id": "be04aa2d-c16f-47f7-b1af-0f4b2323bd47",
   "metadata": {},
   "outputs": [],
   "source": [
    "vectorizer = TfidfVectorizer()\n",
    "tfidf_matrix = vectorizer.fit_transform(file_texts)"
   ]
  },
  {
   "cell_type": "code",
   "execution_count": 9,
   "id": "6a243e45-2509-4626-a89f-9c955a14cbc6",
   "metadata": {},
   "outputs": [],
   "source": [
    "similarity_matrix = cosine_similarity(tfidf_matrix)\n"
   ]
  },
  {
   "cell_type": "code",
   "execution_count": 10,
   "id": "51146933-112a-44e3-ac9b-b52084068f47",
   "metadata": {},
   "outputs": [
    {
     "name": "stdout",
     "output_type": "stream",
     "text": [
      "Plagiarism detected between 11.txt and 43.txt with similarity: 0.5371\n",
      "Plagiarism detected between 22.txt and seven.txt with similarity: 0.5476\n",
      "Plagiarism detected between 34.txt and three.txt with similarity: 0.5703\n"
     ]
    }
   ],
   "source": [
    "for i in range(len(file_names)):\n",
    "    for j in range(i + 1, len(file_names)):  \n",
    "        similarity_score = similarity_matrix[i][j]\n",
    "        if similarity_score > 0.5: \n",
    "            print(f\"Plagiarism detected between {file_names[i]} and {file_names[j]} with similarity: {similarity_score:.4f}\")"
   ]
  },
  {
   "cell_type": "code",
   "execution_count": null,
   "id": "e37b5684-9e75-488d-83cc-f15286dcd8ec",
   "metadata": {},
   "outputs": [],
   "source": []
  }
 ],
 "metadata": {
  "kernelspec": {
   "display_name": "Python 3 (ipykernel)",
   "language": "python",
   "name": "python3"
  },
  "language_info": {
   "codemirror_mode": {
    "name": "ipython",
    "version": 3
   },
   "file_extension": ".py",
   "mimetype": "text/x-python",
   "name": "python",
   "nbconvert_exporter": "python",
   "pygments_lexer": "ipython3",
   "version": "3.11.5"
  }
 },
 "nbformat": 4,
 "nbformat_minor": 5
}
