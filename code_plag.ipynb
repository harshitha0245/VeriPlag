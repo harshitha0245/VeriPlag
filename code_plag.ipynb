{
 "cells": [
  {
   "cell_type": "code",
   "execution_count": 4,
   "id": "7fea3866-318e-4e8f-8bb0-149fab52b3a5",
   "metadata": {},
   "outputs": [],
   "source": [
    "import os\n",
    "import re\n",
    "from sklearn.feature_extraction.text import TfidfVectorizer\n",
    "from sklearn.metrics.pairwise import cosine_similarity\n"
   ]
  },
  {
   "cell_type": "code",
   "execution_count": null,
   "id": "beea12de-bfa3-4c75-bf92-f124d27ee6b1",
   "metadata": {},
   "outputs": [],
   "source": [
    "def preprocess_code(code):\n",
    "    code = re.sub(r'\\'\\'\\'.*?\\'\\'\\'', '', code, flags=re.DOTALL)\n",
    "    code = re.sub(r'\\\"\\\"\\\".*?\\\"\\\"\\\"', '', code, flags=re.DOTALL) \n",
    "    code = re.sub(r'#.*', '', code) \n",
    "    \n",
    "    code = re.sub(r'^\\s*(import|from)\\s+[^\\n]+', '', code, flags=re.MULTILINE)\n",
    "    \n",
    "    return code"
   ]
  },
  {
   "cell_type": "code",
   "execution_count": null,
   "id": "5c54db0a-77f4-46ed-808d-4ddab6e3bce0",
   "metadata": {},
   "outputs": [],
   "source": [
    "student_files = [doc for doc in os.listdir('code_data') if doc.endswith('.py')]"
   ]
  },
  {
   "cell_type": "code",
   "execution_count": null,
   "id": "6709d20e-2664-4b8d-819e-244bf5f7b669",
   "metadata": {},
   "outputs": [],
   "source": [
    "student_code = [preprocess_code(open(os.path.join('code_data', _file), encoding='utf-8', errors='ignore').read())\n",
    "                for _file in student_files]\n"
   ]
  },
  {
   "cell_type": "code",
   "execution_count": null,
   "id": "3968b451-00f0-464f-8915-15da6691a424",
   "metadata": {},
   "outputs": [],
   "source": [
    "def vectorize(Text): \n",
    "    return TfidfVectorizer(token_pattern=r'\\b\\w+\\b').fit_transform(Text).toarray()\n"
   ]
  },
  {
   "cell_type": "code",
   "execution_count": null,
   "id": "1416155b-1bd9-408a-81d7-0e346eb20734",
   "metadata": {},
   "outputs": [],
   "source": [
    "def similarity(doc1, doc2): \n",
    "    return cosine_similarity([doc1, doc2])\n"
   ]
  },
  {
   "cell_type": "code",
   "execution_count": null,
   "id": "427ec87e-fd43-4d16-b41b-4a42294bd0f3",
   "metadata": {},
   "outputs": [],
   "source": [
    "vectors = vectorize(student_code)\n",
    "s_vectors = list(zip(student_files, vectors))\n",
    "plagiarism_results = set()"
   ]
  },
  {
   "cell_type": "code",
   "execution_count": null,
   "id": "e7208d0d-a569-41db-b74a-dfc2ad742923",
   "metadata": {},
   "outputs": [],
   "source": []
  },
  {
   "cell_type": "code",
   "execution_count": 3,
   "id": "270b603b-2932-4b2b-93ca-d4b7189e481f",
   "metadata": {},
   "outputs": [
    {
     "name": "stdout",
     "output_type": "stream",
     "text": [
      "a12.py vs a30.py: Similarity Score: 0.77\n",
      "a10.py vs a5.py: Similarity Score: 0.71\n",
      "a2.py vs a25.py: Similarity Score: 0.86\n",
      "a3.py vs a5.py: Similarity Score: 0.56\n",
      "a13.py vs a41.py: Similarity Score: 0.79\n",
      "a14.py vs a26.py: Similarity Score: 0.68\n",
      "a10.py vs a3.py: Similarity Score: 0.65\n",
      "a34.py vs a45.py: Similarity Score: 0.98\n",
      "a4.py vs a5.py: Similarity Score: 0.53\n",
      "a43.py vs a47.py: Similarity Score: 0.73\n",
      "a3.py vs a7.py: Similarity Score: 0.64\n",
      "a5.py vs a7.py: Similarity Score: 0.73\n",
      "a36.py vs a44.py: Similarity Score: 0.57\n",
      "a10.py vs a7.py: Similarity Score: 0.88\n"
     ]
    }
   ],
   "source": [
    "\n",
    "\n",
    "\n",
    "\n",
    "\n",
    "\n",
    "\n",
    "\n",
    "def check_plagiarism():\n",
    "    for student_a, text_vector_a in s_vectors:\n",
    "        for student_b, text_vector_b in s_vectors:\n",
    "            if student_a != student_b:\n",
    "                sim_score = similarity(text_vector_a, text_vector_b)[0][1]\n",
    "                if sim_score > 0.5:\n",
    "                    student_pair = sorted((student_a, student_b))\n",
    "                    score = (student_pair[0], student_pair[1], sim_score)\n",
    "                    plagiarism_results.add(score)\n",
    "    return plagiarism_results\n",
    "\n",
    "for data in check_plagiarism():\n",
    "    print(f'{data[0]} vs {data[1]}: Similarity Score: {data[2]:.2f}')\n"
   ]
  },
  {
   "cell_type": "code",
   "execution_count": null,
   "id": "dedb1225-487f-49ef-b787-844fd347857d",
   "metadata": {},
   "outputs": [],
   "source": []
  }
 ],
 "metadata": {
  "kernelspec": {
   "display_name": "Python 3 (ipykernel)",
   "language": "python",
   "name": "python3"
  },
  "language_info": {
   "codemirror_mode": {
    "name": "ipython",
    "version": 3
   },
   "file_extension": ".py",
   "mimetype": "text/x-python",
   "name": "python",
   "nbconvert_exporter": "python",
   "pygments_lexer": "ipython3",
   "version": "3.11.5"
  }
 },
 "nbformat": 4,
 "nbformat_minor": 5
}
